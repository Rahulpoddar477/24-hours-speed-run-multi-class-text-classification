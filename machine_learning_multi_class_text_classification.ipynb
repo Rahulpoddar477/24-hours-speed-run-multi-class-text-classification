{
  "nbformat": 4,
  "nbformat_minor": 0,
  "metadata": {
    "accelerator": "GPU",
    "colab": {
      "name": "machine_learning_multi_class_text_classification.ipynb",
      "provenance": [],
      "collapsed_sections": [],
      "toc_visible": true
    },
    "kernelspec": {
      "display_name": "Python 3",
      "name": "python3"
    }
  },
  "cells": [
    {
      "cell_type": "markdown",
      "metadata": {
        "id": "UHI5pHMl-J-s"
      },
      "source": [
        "# Multi class Amazon product reviews classification using machine learning"
      ]
    },
    {
      "cell_type": "code",
      "metadata": {
        "id": "i7Iy6Jk7-GqX"
      },
      "source": [
        "# Import necessary library\n",
        "import numpy as np\n",
        "import pandas as pd\n",
        "import matplotlib.pyplot as plt\n",
        "import seaborn as sns\n",
        "from sklearn.feature_extraction.text import TfidfVectorizer\n",
        "from sklearn.svm import SVC, LinearSVC\n",
        "from sklearn.naive_bayes import MultinomialNB, BernoulliNB\n",
        "from xgboost import XGBClassifier\n",
        "from sklearn.pipeline import Pipeline\n",
        "from sklearn.model_selection import train_test_split\n",
        "from sklearn.metrics import accuracy_score, classification_report, confusion_matrix\n",
        "from spacy.lang.en.stop_words import STOP_WORDS\n",
        "from string import punctuation\n",
        "\n",
        "%matplotlib inline"
      ],
      "execution_count": 1,
      "outputs": []
    },
    {
      "cell_type": "code",
      "metadata": {
        "colab": {
          "base_uri": "https://localhost:8080/"
        },
        "id": "2UtagBc3YfYB",
        "outputId": "ae139089-b2d0-446f-d749-9ad61e426921"
      },
      "source": [
        "# Mount google drive\n",
        "from google.colab import drive\n",
        "drive.mount('/content/gdrive')\n",
        "# this creates a symbolic link so that now the path /content/gdrive/My\\ Drive/ is equal to /mydrive\n",
        "!ln -s /content/gdrive/My\\ Drive/ /mydrive\n",
        "!ls /mydrive/multi_class_text_classification"
      ],
      "execution_count": 2,
      "outputs": [
        {
          "output_type": "stream",
          "text": [
            "Drive already mounted at /content/gdrive; to attempt to forcibly remount, call drive.mount(\"/content/gdrive\", force_remount=True).\n",
            "ln: failed to create symbolic link '/mydrive/My Drive': File exists\n",
            "'Copy of delete now.ipynb'\n",
            " deep_learning_multi_class_text_classification.ipynb\n",
            "'delete now.ipynb'\n",
            " machine_learning_multi_class_text_classification.ipynb\n",
            " text_cls\n",
            " Transformer_multi_class_text_classification.ipynb\n"
          ],
          "name": "stdout"
        }
      ]
    },
    {
      "cell_type": "code",
      "metadata": {
        "colab": {
          "base_uri": "https://localhost:8080/"
        },
        "id": "I2nYwmhqYfdC",
        "outputId": "8596c996-b464-482e-eebc-740fce8b2bfe"
      },
      "source": [
        "# Install spacy en_core_web_lg \n",
        "!python -m spacy download en_core_web_lg"
      ],
      "execution_count": 3,
      "outputs": [
        {
          "output_type": "stream",
          "text": [
            "Requirement already satisfied: en_core_web_lg==2.2.5 from https://github.com/explosion/spacy-models/releases/download/en_core_web_lg-2.2.5/en_core_web_lg-2.2.5.tar.gz#egg=en_core_web_lg==2.2.5 in /usr/local/lib/python3.7/dist-packages (2.2.5)\n",
            "Requirement already satisfied: spacy>=2.2.2 in /usr/local/lib/python3.7/dist-packages (from en_core_web_lg==2.2.5) (2.2.4)\n",
            "Requirement already satisfied: murmurhash<1.1.0,>=0.28.0 in /usr/local/lib/python3.7/dist-packages (from spacy>=2.2.2->en_core_web_lg==2.2.5) (1.0.5)\n",
            "Requirement already satisfied: setuptools in /usr/local/lib/python3.7/dist-packages (from spacy>=2.2.2->en_core_web_lg==2.2.5) (54.1.2)\n",
            "Requirement already satisfied: plac<1.2.0,>=0.9.6 in /usr/local/lib/python3.7/dist-packages (from spacy>=2.2.2->en_core_web_lg==2.2.5) (1.1.3)\n",
            "Requirement already satisfied: requests<3.0.0,>=2.13.0 in /usr/local/lib/python3.7/dist-packages (from spacy>=2.2.2->en_core_web_lg==2.2.5) (2.23.0)\n",
            "Requirement already satisfied: preshed<3.1.0,>=3.0.2 in /usr/local/lib/python3.7/dist-packages (from spacy>=2.2.2->en_core_web_lg==2.2.5) (3.0.5)\n",
            "Requirement already satisfied: srsly<1.1.0,>=1.0.2 in /usr/local/lib/python3.7/dist-packages (from spacy>=2.2.2->en_core_web_lg==2.2.5) (1.0.5)\n",
            "Requirement already satisfied: cymem<2.1.0,>=2.0.2 in /usr/local/lib/python3.7/dist-packages (from spacy>=2.2.2->en_core_web_lg==2.2.5) (2.0.5)\n",
            "Requirement already satisfied: blis<0.5.0,>=0.4.0 in /usr/local/lib/python3.7/dist-packages (from spacy>=2.2.2->en_core_web_lg==2.2.5) (0.4.1)\n",
            "Requirement already satisfied: wasabi<1.1.0,>=0.4.0 in /usr/local/lib/python3.7/dist-packages (from spacy>=2.2.2->en_core_web_lg==2.2.5) (0.8.2)\n",
            "Requirement already satisfied: catalogue<1.1.0,>=0.0.7 in /usr/local/lib/python3.7/dist-packages (from spacy>=2.2.2->en_core_web_lg==2.2.5) (1.0.0)\n",
            "Requirement already satisfied: numpy>=1.15.0 in /usr/local/lib/python3.7/dist-packages (from spacy>=2.2.2->en_core_web_lg==2.2.5) (1.19.5)\n",
            "Requirement already satisfied: thinc==7.4.0 in /usr/local/lib/python3.7/dist-packages (from spacy>=2.2.2->en_core_web_lg==2.2.5) (7.4.0)\n",
            "Requirement already satisfied: tqdm<5.0.0,>=4.38.0 in /usr/local/lib/python3.7/dist-packages (from spacy>=2.2.2->en_core_web_lg==2.2.5) (4.41.1)\n",
            "Requirement already satisfied: urllib3!=1.25.0,!=1.25.1,<1.26,>=1.21.1 in /usr/local/lib/python3.7/dist-packages (from requests<3.0.0,>=2.13.0->spacy>=2.2.2->en_core_web_lg==2.2.5) (1.24.3)\n",
            "Requirement already satisfied: chardet<4,>=3.0.2 in /usr/local/lib/python3.7/dist-packages (from requests<3.0.0,>=2.13.0->spacy>=2.2.2->en_core_web_lg==2.2.5) (3.0.4)\n",
            "Requirement already satisfied: certifi>=2017.4.17 in /usr/local/lib/python3.7/dist-packages (from requests<3.0.0,>=2.13.0->spacy>=2.2.2->en_core_web_lg==2.2.5) (2020.12.5)\n",
            "Requirement already satisfied: idna<3,>=2.5 in /usr/local/lib/python3.7/dist-packages (from requests<3.0.0,>=2.13.0->spacy>=2.2.2->en_core_web_lg==2.2.5) (2.10)\n",
            "Requirement already satisfied: importlib-metadata>=0.20; python_version < \"3.8\" in /usr/local/lib/python3.7/dist-packages (from catalogue<1.1.0,>=0.0.7->spacy>=2.2.2->en_core_web_lg==2.2.5) (3.7.2)\n",
            "Requirement already satisfied: zipp>=0.5 in /usr/local/lib/python3.7/dist-packages (from importlib-metadata>=0.20; python_version < \"3.8\"->catalogue<1.1.0,>=0.0.7->spacy>=2.2.2->en_core_web_lg==2.2.5) (3.4.1)\n",
            "Requirement already satisfied: typing-extensions>=3.6.4; python_version < \"3.8\" in /usr/local/lib/python3.7/dist-packages (from importlib-metadata>=0.20; python_version < \"3.8\"->catalogue<1.1.0,>=0.0.7->spacy>=2.2.2->en_core_web_lg==2.2.5) (3.7.4.3)\n",
            "\u001b[38;5;2m✔ Download and installation successful\u001b[0m\n",
            "You can now load the model via spacy.load('en_core_web_lg')\n"
          ],
          "name": "stdout"
        }
      ]
    },
    {
      "cell_type": "code",
      "metadata": {
        "id": "iIoA0LnsYBZB",
        "colab": {
          "base_uri": "https://localhost:8080/",
          "height": 195
        },
        "outputId": "f21f1223-9878-45e5-af5e-cf3b980674b8"
      },
      "source": [
        "# Read data\n",
        "df = pd.read_csv('/content/gdrive/MyDrive/multi_class_text_classification/text_cls/train_40k.csv')[['Text','Cat1']]\n",
        "df.head()"
      ],
      "execution_count": 4,
      "outputs": [
        {
          "output_type": "execute_result",
          "data": {
            "text/html": [
              "<div>\n",
              "<style scoped>\n",
              "    .dataframe tbody tr th:only-of-type {\n",
              "        vertical-align: middle;\n",
              "    }\n",
              "\n",
              "    .dataframe tbody tr th {\n",
              "        vertical-align: top;\n",
              "    }\n",
              "\n",
              "    .dataframe thead th {\n",
              "        text-align: right;\n",
              "    }\n",
              "</style>\n",
              "<table border=\"1\" class=\"dataframe\">\n",
              "  <thead>\n",
              "    <tr style=\"text-align: right;\">\n",
              "      <th></th>\n",
              "      <th>Text</th>\n",
              "      <th>Cat1</th>\n",
              "    </tr>\n",
              "  </thead>\n",
              "  <tbody>\n",
              "    <tr>\n",
              "      <th>0</th>\n",
              "      <td>The description and photo on this product need...</td>\n",
              "      <td>grocery gourmet food</td>\n",
              "    </tr>\n",
              "    <tr>\n",
              "      <th>1</th>\n",
              "      <td>This was a great book!!!! It is well thought t...</td>\n",
              "      <td>toys games</td>\n",
              "    </tr>\n",
              "    <tr>\n",
              "      <th>2</th>\n",
              "      <td>I am a first year teacher, teaching 5th grade....</td>\n",
              "      <td>toys games</td>\n",
              "    </tr>\n",
              "    <tr>\n",
              "      <th>3</th>\n",
              "      <td>I got the book at my bookfair at school lookin...</td>\n",
              "      <td>toys games</td>\n",
              "    </tr>\n",
              "    <tr>\n",
              "      <th>4</th>\n",
              "      <td>Hi! I'm Martine Redman and I created this puzz...</td>\n",
              "      <td>toys games</td>\n",
              "    </tr>\n",
              "  </tbody>\n",
              "</table>\n",
              "</div>"
            ],
            "text/plain": [
              "                                                Text                  Cat1\n",
              "0  The description and photo on this product need...  grocery gourmet food\n",
              "1  This was a great book!!!! It is well thought t...            toys games\n",
              "2  I am a first year teacher, teaching 5th grade....            toys games\n",
              "3  I got the book at my bookfair at school lookin...            toys games\n",
              "4  Hi! I'm Martine Redman and I created this puzz...            toys games"
            ]
          },
          "metadata": {
            "tags": []
          },
          "execution_count": 4
        }
      ]
    },
    {
      "cell_type": "code",
      "metadata": {
        "colab": {
          "base_uri": "https://localhost:8080/",
          "height": 52
        },
        "id": "pyaXJbPqaXpH",
        "outputId": "10507a96-9c71-4bfa-e7fb-178358eb7b34"
      },
      "source": [
        "df['Text'][1]"
      ],
      "execution_count": 5,
      "outputs": [
        {
          "output_type": "execute_result",
          "data": {
            "application/vnd.google.colaboratory.intrinsic+json": {
              "type": "string"
            },
            "text/plain": [
              "'This was a great book!!!! It is well thought through, and you can easily imagine the events happening. The Westing Game itself is a great way to tie two things together. The events are well sequenced and exciting. Ellen Raskin wrote a wonderful book'"
            ]
          },
          "metadata": {
            "tags": []
          },
          "execution_count": 5
        }
      ]
    },
    {
      "cell_type": "code",
      "metadata": {
        "colab": {
          "base_uri": "https://localhost:8080/"
        },
        "id": "YuJlzXl9wcpu",
        "outputId": "e7a0c5a9-90fe-4fb5-f337-60d8faf0cae8"
      },
      "source": [
        "df.shape"
      ],
      "execution_count": 6,
      "outputs": [
        {
          "output_type": "execute_result",
          "data": {
            "text/plain": [
              "(40000, 2)"
            ]
          },
          "metadata": {
            "tags": []
          },
          "execution_count": 6
        }
      ]
    },
    {
      "cell_type": "code",
      "metadata": {
        "id": "WSsIcuA3yaFN",
        "colab": {
          "base_uri": "https://localhost:8080/"
        },
        "outputId": "9aebf2cc-faf5-473e-d1b7-61ebc987e4af"
      },
      "source": [
        "# Drop duplicates\n",
        "df.drop_duplicates(inplace=True)\n",
        "df.shape"
      ],
      "execution_count": 7,
      "outputs": [
        {
          "output_type": "execute_result",
          "data": {
            "text/plain": [
              "(39512, 2)"
            ]
          },
          "metadata": {
            "tags": []
          },
          "execution_count": 7
        }
      ]
    },
    {
      "cell_type": "code",
      "metadata": {
        "colab": {
          "base_uri": "https://localhost:8080/"
        },
        "id": "72ZLVhaIyMIT",
        "outputId": "4e041dc1-3cac-4f3e-ffc6-79787e2fbd24"
      },
      "source": [
        "df['Cat1'].value_counts()"
      ],
      "execution_count": 8,
      "outputs": [
        {
          "output_type": "execute_result",
          "data": {
            "text/plain": [
              "toys games              10246\n",
              "health personal care     9524\n",
              "beauty                   5722\n",
              "baby products            5602\n",
              "pet supplies             4820\n",
              "grocery gourmet food     3598\n",
              "Name: Cat1, dtype: int64"
            ]
          },
          "metadata": {
            "tags": []
          },
          "execution_count": 8
        }
      ]
    },
    {
      "cell_type": "code",
      "metadata": {
        "id": "uNHy2-Bqu9fn",
        "colab": {
          "base_uri": "https://localhost:8080/"
        },
        "outputId": "998f99aa-570d-467e-bf21-49536052a2fe"
      },
      "source": [
        "# Balancing all classes\n",
        "df = df.groupby('Cat1').sample(n=3598)\n",
        "df.shape"
      ],
      "execution_count": 9,
      "outputs": [
        {
          "output_type": "execute_result",
          "data": {
            "text/plain": [
              "(21588, 2)"
            ]
          },
          "metadata": {
            "tags": []
          },
          "execution_count": 9
        }
      ]
    },
    {
      "cell_type": "code",
      "metadata": {
        "id": "6ZRlFDwDb8Wo"
      },
      "source": [
        "# load en_core_web_lg\n",
        "import spacy\n",
        "nlp = spacy.load('en_core_web_lg')"
      ],
      "execution_count": 10,
      "outputs": []
    },
    {
      "cell_type": "code",
      "metadata": {
        "id": "hhhaoPlIaheZ"
      },
      "source": [
        "def tokenizer(sentence):\n",
        "  \"\"\"\n",
        "  Tokenize the sentence and remove stop words and punctuation \n",
        "  \"\"\"\n",
        "  doc = nlp(sentence)\n",
        "\n",
        "  tokens = []\n",
        "  for token in doc:\n",
        "      if token.lemma_ != \"-PRON-\":\n",
        "          temp = token.lemma_.lower().strip()\n",
        "      else:\n",
        "          temp = token.lower_\n",
        "      tokens.append(temp)\n",
        "\n",
        "  cleaned_tokens = []\n",
        "  for token in tokens:\n",
        "      if token not in STOP_WORDS and token not in punctuation:\n",
        "          cleaned_tokens.append(token)\n",
        "  return cleaned_tokens    "
      ],
      "execution_count": 11,
      "outputs": []
    },
    {
      "cell_type": "code",
      "metadata": {
        "colab": {
          "base_uri": "https://localhost:8080/"
        },
        "id": "OfIadgiE7HT3",
        "outputId": "6c255d0c-7b53-4363-a323-c301a56489cd"
      },
      "source": [
        "tokenizer('This was a great book!!!! It is well thought through, and you can easily imagine the events happening. The Westing Game itself is a great way to tie two things together. The events are well sequenced and exciting. Ellen Raskin wrote a wonderful book')"
      ],
      "execution_count": 12,
      "outputs": [
        {
          "output_type": "execute_result",
          "data": {
            "text/plain": [
              "['great',\n",
              " 'book',\n",
              " 'think',\n",
              " 'easily',\n",
              " 'imagine',\n",
              " 'event',\n",
              " 'happen',\n",
              " 'westing',\n",
              " 'game',\n",
              " 'great',\n",
              " 'way',\n",
              " 'tie',\n",
              " 'thing',\n",
              " 'event',\n",
              " 'sequenced',\n",
              " 'exciting',\n",
              " 'ellen',\n",
              " 'raskin',\n",
              " 'write',\n",
              " 'wonderful',\n",
              " 'book']"
            ]
          },
          "metadata": {
            "tags": []
          },
          "execution_count": 12
        }
      ]
    },
    {
      "cell_type": "code",
      "metadata": {
        "id": "Vr4Ao8iGfME-",
        "colab": {
          "base_uri": "https://localhost:8080/"
        },
        "outputId": "f4401e4d-a9b7-47d0-c815-2d1997f65903"
      },
      "source": [
        "# Train test split of data\n",
        "X_train, X_test, y_train, y_test = train_test_split(df['Text'], df['Cat1'], test_size = 0.2, random_state=300)\n",
        "X_train.shape, X_test.shape"
      ],
      "execution_count": 13,
      "outputs": [
        {
          "output_type": "execute_result",
          "data": {
            "text/plain": [
              "((17270,), (4318,))"
            ]
          },
          "metadata": {
            "tags": []
          },
          "execution_count": 13
        }
      ]
    },
    {
      "cell_type": "markdown",
      "metadata": {
        "id": "TdJIGaI7-rln"
      },
      "source": [
        "## Model training"
      ]
    },
    {
      "cell_type": "code",
      "metadata": {
        "id": "oapprqohfMKe"
      },
      "source": [
        "# Initialize the ML models\n",
        "tfidf = TfidfVectorizer(tokenizer = tokenizer, max_features= 20000)\n",
        "svc_classifier = SVC()\n",
        "nb_classifier = MultinomialNB()\n",
        "xgb_classifier = XGBClassifier()"
      ],
      "execution_count": 14,
      "outputs": []
    },
    {
      "cell_type": "code",
      "metadata": {
        "id": "fWJWGdYVzwla"
      },
      "source": [
        "# tfidf transform\n",
        "X_train_vector=tfidf.fit_transform(X_train)\n",
        "X_test_vector = tfidf.transform(X_test)"
      ],
      "execution_count": 15,
      "outputs": []
    },
    {
      "cell_type": "code",
      "metadata": {
        "colab": {
          "base_uri": "https://localhost:8080/"
        },
        "id": "bmn94dZ-zwqY",
        "outputId": "036256de-695b-4c6c-8f0d-abb74710040e"
      },
      "source": [
        "svc_classifier.fit(X_train_vector,y_train)"
      ],
      "execution_count": 16,
      "outputs": [
        {
          "output_type": "execute_result",
          "data": {
            "text/plain": [
              "SVC(C=1.0, break_ties=False, cache_size=200, class_weight=None, coef0=0.0,\n",
              "    decision_function_shape='ovr', degree=3, gamma='scale', kernel='rbf',\n",
              "    max_iter=-1, probability=False, random_state=None, shrinking=True,\n",
              "    tol=0.001, verbose=False)"
            ]
          },
          "metadata": {
            "tags": []
          },
          "execution_count": 16
        }
      ]
    },
    {
      "cell_type": "code",
      "metadata": {
        "colab": {
          "base_uri": "https://localhost:8080/"
        },
        "id": "Kt0QwTx81As2",
        "outputId": "f39f1e3a-dc45-4357-b5c9-49ed52550b74"
      },
      "source": [
        "nb_classifier.fit(X_train_vector,y_train)"
      ],
      "execution_count": 17,
      "outputs": [
        {
          "output_type": "execute_result",
          "data": {
            "text/plain": [
              "MultinomialNB(alpha=1.0, class_prior=None, fit_prior=True)"
            ]
          },
          "metadata": {
            "tags": []
          },
          "execution_count": 17
        }
      ]
    },
    {
      "cell_type": "code",
      "metadata": {
        "colab": {
          "base_uri": "https://localhost:8080/"
        },
        "id": "cv7f8u351Avb",
        "outputId": "f4bfbda7-dd14-43e9-df15-d421cd4025d9"
      },
      "source": [
        "xgb_classifier.fit(X_train_vector,y_train)"
      ],
      "execution_count": 18,
      "outputs": [
        {
          "output_type": "execute_result",
          "data": {
            "text/plain": [
              "XGBClassifier(base_score=0.5, booster='gbtree', colsample_bylevel=1,\n",
              "              colsample_bynode=1, colsample_bytree=1, gamma=0,\n",
              "              learning_rate=0.1, max_delta_step=0, max_depth=3,\n",
              "              min_child_weight=1, missing=None, n_estimators=100, n_jobs=1,\n",
              "              nthread=None, objective='multi:softprob', random_state=0,\n",
              "              reg_alpha=0, reg_lambda=1, scale_pos_weight=1, seed=None,\n",
              "              silent=None, subsample=1, verbosity=1)"
            ]
          },
          "metadata": {
            "tags": []
          },
          "execution_count": 18
        }
      ]
    },
    {
      "cell_type": "markdown",
      "metadata": {
        "id": "Pyk-9N-E-ypO"
      },
      "source": [
        "## Model evaluation"
      ]
    },
    {
      "cell_type": "code",
      "metadata": {
        "id": "uVBTbOcz1AyL"
      },
      "source": [
        "# Prediction on test values\n",
        "y_pred_svc = svc_classifier.predict(X_test_vector)\n",
        "y_pred_nb = nb_classifier.predict(X_test_vector)\n",
        "y_pred_xgb = xgb_classifier.predict(X_test_vector)"
      ],
      "execution_count": 19,
      "outputs": []
    },
    {
      "cell_type": "code",
      "metadata": {
        "colab": {
          "base_uri": "https://localhost:8080/"
        },
        "id": "uAKCKPxujaJD",
        "outputId": "006f424f-a95e-4938-d504-4b06672ca365"
      },
      "source": [
        "print(classification_report(y_test, y_pred_svc))"
      ],
      "execution_count": 20,
      "outputs": [
        {
          "output_type": "stream",
          "text": [
            "                      precision    recall  f1-score   support\n",
            "\n",
            "       baby products       0.89      0.84      0.86       680\n",
            "              beauty       0.84      0.85      0.85       714\n",
            "grocery gourmet food       0.88      0.90      0.89       769\n",
            "health personal care       0.69      0.79      0.73       727\n",
            "        pet supplies       0.94      0.85      0.89       691\n",
            "          toys games       0.88      0.86      0.87       737\n",
            "\n",
            "            accuracy                           0.85      4318\n",
            "           macro avg       0.85      0.85      0.85      4318\n",
            "        weighted avg       0.85      0.85      0.85      4318\n",
            "\n"
          ],
          "name": "stdout"
        }
      ]
    },
    {
      "cell_type": "code",
      "metadata": {
        "colab": {
          "base_uri": "https://localhost:8080/"
        },
        "id": "RzQz8OEY1YMs",
        "outputId": "f43ce8cc-ae07-4b75-9425-3546019f0f53"
      },
      "source": [
        "print(classification_report(y_test, y_pred_nb))"
      ],
      "execution_count": 21,
      "outputs": [
        {
          "output_type": "stream",
          "text": [
            "                      precision    recall  f1-score   support\n",
            "\n",
            "       baby products       0.75      0.90      0.82       680\n",
            "              beauty       0.81      0.88      0.85       714\n",
            "grocery gourmet food       0.89      0.90      0.90       769\n",
            "health personal care       0.84      0.62      0.71       727\n",
            "        pet supplies       0.88      0.88      0.88       691\n",
            "          toys games       0.86      0.85      0.86       737\n",
            "\n",
            "            accuracy                           0.84      4318\n",
            "           macro avg       0.84      0.84      0.84      4318\n",
            "        weighted avg       0.84      0.84      0.84      4318\n",
            "\n"
          ],
          "name": "stdout"
        }
      ]
    },
    {
      "cell_type": "code",
      "metadata": {
        "colab": {
          "base_uri": "https://localhost:8080/"
        },
        "id": "fPg75Y2B1YPg",
        "outputId": "848e00e1-9df3-42c0-f503-40221ff91ec8"
      },
      "source": [
        "print(classification_report(y_test, y_pred_xgb))"
      ],
      "execution_count": 22,
      "outputs": [
        {
          "output_type": "stream",
          "text": [
            "                      precision    recall  f1-score   support\n",
            "\n",
            "       baby products       0.82      0.74      0.78       680\n",
            "              beauty       0.82      0.74      0.78       714\n",
            "grocery gourmet food       0.84      0.76      0.80       769\n",
            "health personal care       0.48      0.73      0.58       727\n",
            "        pet supplies       0.91      0.77      0.84       691\n",
            "          toys games       0.82      0.75      0.79       737\n",
            "\n",
            "            accuracy                           0.75      4318\n",
            "           macro avg       0.78      0.75      0.76      4318\n",
            "        weighted avg       0.78      0.75      0.76      4318\n",
            "\n"
          ],
          "name": "stdout"
        }
      ]
    },
    {
      "cell_type": "code",
      "metadata": {
        "colab": {
          "base_uri": "https://localhost:8080/"
        },
        "id": "JRlGmScYjaL8",
        "outputId": "a5185b25-bf6d-486b-e086-c22ad920a3ee"
      },
      "source": [
        "confusion_matrix(y_test, y_pred_svc)"
      ],
      "execution_count": 23,
      "outputs": [
        {
          "output_type": "execute_result",
          "data": {
            "text/plain": [
              "array([[570,  15,   5,  50,   7,  33],\n",
              "       [  2, 608,  16,  77,   2,   9],\n",
              "       [  5,  11, 690,  46,   7,  10],\n",
              "       [ 17,  60,  53, 572,  10,  15],\n",
              "       [  7,  22,  10,  46, 586,  20],\n",
              "       [ 37,   7,   7,  42,  11, 633]])"
            ]
          },
          "metadata": {
            "tags": []
          },
          "execution_count": 23
        }
      ]
    },
    {
      "cell_type": "code",
      "metadata": {
        "colab": {
          "base_uri": "https://localhost:8080/"
        },
        "id": "VSc21g_G1h0v",
        "outputId": "aa6d0e1d-206d-4ad6-ca3c-f1edef9d6fef"
      },
      "source": [
        "confusion_matrix(y_test, y_pred_nb)"
      ],
      "execution_count": 24,
      "outputs": [
        {
          "output_type": "execute_result",
          "data": {
            "text/plain": [
              "array([[615,  15,   2,   6,   8,  34],\n",
              "       [ 22, 627,   7,  38,   9,  11],\n",
              "       [ 12,  15, 693,  22,  13,  14],\n",
              "       [ 74,  88,  66, 450,  29,  20],\n",
              "       [ 29,  17,   8,  11, 605,  21],\n",
              "       [ 70,   8,   2,   6,  21, 630]])"
            ]
          },
          "metadata": {
            "tags": []
          },
          "execution_count": 24
        }
      ]
    },
    {
      "cell_type": "code",
      "metadata": {
        "colab": {
          "base_uri": "https://localhost:8080/"
        },
        "id": "-xmTME8Z1h3h",
        "outputId": "4b177ab1-a5f2-4664-f765-ee82e1b419ab"
      },
      "source": [
        "confusion_matrix(y_test, y_pred_xgb)"
      ],
      "execution_count": 25,
      "outputs": [
        {
          "output_type": "execute_result",
          "data": {
            "text/plain": [
              "array([[506,  13,   9,  93,   8,  51],\n",
              "       [ 10, 527,  15, 150,   3,   9],\n",
              "       [  9,   8, 588, 134,  11,  19],\n",
              "       [ 29,  67,  65, 529,  17,  20],\n",
              "       [  9,  16,  13,  96, 533,  24],\n",
              "       [ 51,  13,  10,  96,  11, 556]])"
            ]
          },
          "metadata": {
            "tags": []
          },
          "execution_count": 25
        }
      ]
    },
    {
      "cell_type": "markdown",
      "metadata": {
        "id": "CH08T5Tqe-_O"
      },
      "source": [
        "##Hyper Parameter tunning"
      ]
    },
    {
      "cell_type": "code",
      "metadata": {
        "id": "8T4BzB9WbgMa",
        "colab": {
          "base_uri": "https://localhost:8080/"
        },
        "outputId": "03188454-5c5c-4a89-ab19-2d78c3373e39"
      },
      "source": [
        "# Hyper Parameter tunning of SVC\n",
        "from sklearn.model_selection import GridSearchCV\n",
        "\n",
        "hp = {'C':[1,10,100],\n",
        "         'gamma':[0.001,0.01,0.1,1.0,10],\n",
        "         'kernel':['rbf','linear']\n",
        "        }\n",
        "\n",
        "gd = GridSearchCV(estimator=svc_classifier,param_grid=hp,verbose=True, n_jobs=-1)\n",
        "gd.fit(X_train_vector,y_train)\n",
        "print(gd.best_score_)\n",
        "print(gd.best_estimator_)"
      ],
      "execution_count": 28,
      "outputs": [
        {
          "output_type": "stream",
          "text": [
            "Fitting 5 folds for each of 30 candidates, totalling 150 fits\n"
          ],
          "name": "stdout"
        },
        {
          "output_type": "stream",
          "text": [
            "[Parallel(n_jobs=-1)]: Using backend LokyBackend with 2 concurrent workers.\n",
            "[Parallel(n_jobs=-1)]: Done  46 tasks      | elapsed: 33.2min\n",
            "[Parallel(n_jobs=-1)]: Done 150 out of 150 | elapsed: 93.9min finished\n"
          ],
          "name": "stderr"
        },
        {
          "output_type": "stream",
          "text": [
            "0.83329473074696\n",
            "SVC(C=10, break_ties=False, cache_size=200, class_weight=None, coef0=0.0,\n",
            "    decision_function_shape='ovr', degree=3, gamma=1.0, kernel='rbf',\n",
            "    max_iter=-1, probability=False, random_state=None, shrinking=True,\n",
            "    tol=0.001, verbose=False)\n"
          ],
          "name": "stdout"
        }
      ]
    },
    {
      "cell_type": "code",
      "metadata": {
        "id": "xWQWTpOb8Ksy"
      },
      "source": [
        "tuned_svc_classifier = SVC(C=10, break_ties=False, cache_size=200, class_weight=None, coef0=0.0,\n",
        "    decision_function_shape='ovr', degree=3, gamma=1.0, kernel='rbf',\n",
        "    max_iter=-1, probability=False, random_state=None, shrinking=True,\n",
        "    tol=0.001, verbose=False)\n",
        "tuned_svc_classifier.fit(X_train_vector,y_train)\n",
        "y_pred_tuned_svc = tuned_svc_classifier.predict(X_test_vector)"
      ],
      "execution_count": 31,
      "outputs": []
    },
    {
      "cell_type": "code",
      "metadata": {
        "id": "lVaQOYr1bgXj",
        "colab": {
          "base_uri": "https://localhost:8080/"
        },
        "outputId": "fef15d12-c9e8-4cf6-ff1f-1add2417d07f"
      },
      "source": [
        "print(classification_report(y_test, y_pred_tuned_svc))"
      ],
      "execution_count": 32,
      "outputs": [
        {
          "output_type": "stream",
          "text": [
            "                      precision    recall  f1-score   support\n",
            "\n",
            "       baby products       0.87      0.85      0.86       680\n",
            "              beauty       0.84      0.86      0.85       714\n",
            "grocery gourmet food       0.88      0.90      0.89       769\n",
            "health personal care       0.72      0.77      0.75       727\n",
            "        pet supplies       0.93      0.86      0.89       691\n",
            "          toys games       0.89      0.86      0.87       737\n",
            "\n",
            "            accuracy                           0.85      4318\n",
            "           macro avg       0.85      0.85      0.85      4318\n",
            "        weighted avg       0.85      0.85      0.85      4318\n",
            "\n"
          ],
          "name": "stdout"
        }
      ]
    },
    {
      "cell_type": "code",
      "metadata": {
        "id": "TUKsd5iHbgaH",
        "colab": {
          "base_uri": "https://localhost:8080/"
        },
        "outputId": "b04b8130-6fd1-4087-cdd7-9739bb030f6f"
      },
      "source": [
        "confusion_matrix(y_test, y_pred_tuned_svc)"
      ],
      "execution_count": 33,
      "outputs": [
        {
          "output_type": "execute_result",
          "data": {
            "text/plain": [
              "array([[578,  13,   7,  43,   7,  32],\n",
              "       [  6, 615,  15,  67,   2,   9],\n",
              "       [  6,  11, 691,  42,  10,   9],\n",
              "       [ 22,  66,  51, 561,  14,  13],\n",
              "       [  8,  20,  12,  38, 594,  19],\n",
              "       [ 44,   8,   9,  28,  13, 635]])"
            ]
          },
          "metadata": {
            "tags": []
          },
          "execution_count": 33
        }
      ]
    }
  ]
}